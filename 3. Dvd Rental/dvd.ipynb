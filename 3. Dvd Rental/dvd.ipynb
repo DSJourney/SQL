{
 "cells": [
  {
   "cell_type": "markdown",
   "metadata": {},
   "source": [
    "\n",
    "# SQL Exercises - DVD Rental Store\n",
    "\n",
    "<br>"
   ]
  },
  {
   "cell_type": "markdown",
   "metadata": {},
   "source": [
    "1. [Disclaimer](#disclaimer)\n",
    "1. [Relevant Information](#info)\n",
    "1. [Imports](#imports)\n",
    "1. [Connections](#connection)\n",
    "1. [Schema](#schema)\n",
    "1. [Exercises](#Exercises)\n",
    "    - [Median of films](#median)\n",
    "    - [Filtering amount of films per price](#filter)\n",
    "    - [Month over Month Customers](#mom)\n",
    "    - [Monthly Active Customers, Returning Customers, Churn](#mau)\n",
    "    - [Cummulative Sum](#cumsum)\n",
    "    - [Moving Averages](#moving_averages)\n",
    "    - [Ranking](#ranking)"
   ]
  },
  {
   "cell_type": "markdown",
   "metadata": {},
   "source": [
    "<a id=disclaimer></a>"
   ]
  },
  {
   "cell_type": "markdown",
   "metadata": {},
   "source": [
    "## Disclaimer\n",
    "***"
   ]
  },
  {
   "cell_type": "markdown",
   "metadata": {},
   "source": [
    "<div class=\"span5 alert alert-danger\">\n",
    "    <b>Note:</b> For these exercises I will be using a dataset that represents a DVD rental store. The dataset can be found in <a href=https://www.postgresqltutorial.com/postgresql-sample-database/>this page of postgresqltutorial.com</a>\n",
    "</div>"
   ]
  },
  {
   "cell_type": "markdown",
   "metadata": {},
   "source": [
    "[Completely Uninstall & Install PostgreSQL](https://medium.com/@bitadj/completely-uninstall-and-reinstall-psql-on-osx-551390904b86)\n",
    "\n",
    "**About the exercises** \n",
    "- I will be using PostgreSQL, this is a different SQL flavour from the options you have in HackerRank.\n",
    "- I will decide the questions I will try to answer. \n",
    "- I have used a lot of what was created by Zachary Thomas in his post [The Best Medium-Hard Data Analyst SQL Interview Questions](https://quip.com/2gwZArKuWk7W), there are great questions and great solutions to draw insights from.\n"
   ]
  },
  {
   "cell_type": "markdown",
   "metadata": {},
   "source": [
    "<a id=info></a>"
   ]
  },
  {
   "cell_type": "markdown",
   "metadata": {},
   "source": [
    "## Relevant Information\n",
    "***"
   ]
  },
  {
   "cell_type": "markdown",
   "metadata": {},
   "source": [
    "Here are some of the basic commands for macOS users\n",
    "\n",
    "- `brew install postgresql` --> will install postgresql\n",
    "- `brew services restart postgresql` --> will restart postgresql\n",
    "- `initdb /usr/local/var/postgres` --> will point to the data directory\n",
    "- `psql -U postgres` --> will ask for the password to enter your database\n",
    "- `\\du` --> will show the users\n",
    "- `\\l` --> will show the existing db\n",
    "- `CREATE DATABASE hackerrank;` --> will create the database with the name leetcode (see complete syntax below)\n",
    "- `\\c hackerrank` --> will enter the database\n",
    "- `\\q` --> will close the connection to Postgres\n",
    "- `CREATE TABLE tb_name;` --> Will create a table in your database\n",
    "- `DROP TABLE tb_name;` --> Will delete a table from your database"
   ]
  },
  {
   "cell_type": "markdown",
   "metadata": {},
   "source": [
    "**Complete syntax to create database**<br><br>\n",
    "`CREATE DATABASE db_name\n",
    "OWNER =  role_name\n",
    "TEMPLATE = template\n",
    "ENCODING = encoding\n",
    "LC_COLLATE = collate\n",
    "LC_CTYPE = ctype\n",
    "TABLESPACE = tablespace_name\n",
    "CONNECTION LIMIT = max_concurrent_connection`"
   ]
  },
  {
   "cell_type": "markdown",
   "metadata": {},
   "source": [
    "<a id=imports></a>"
   ]
  },
  {
   "cell_type": "markdown",
   "metadata": {},
   "source": [
    "## Imports\n",
    "***"
   ]
  },
  {
   "cell_type": "code",
   "execution_count": 1,
   "metadata": {},
   "outputs": [],
   "source": [
    "import pandas as pd\n",
    "import numpy as np\n",
    "import psycopg2\n",
    "import sqlalchemy"
   ]
  },
  {
   "cell_type": "code",
   "execution_count": 2,
   "metadata": {},
   "outputs": [],
   "source": [
    "from sqlalchemy import Table, Column, Integer, String, MetaData, VARCHAR, insert, update\n",
    "from sqlalchemy.orm import sessionmaker"
   ]
  },
  {
   "cell_type": "markdown",
   "metadata": {},
   "source": [
    "<a id=connection></a>"
   ]
  },
  {
   "cell_type": "markdown",
   "metadata": {},
   "source": [
    "## Connection\n",
    "***"
   ]
  },
  {
   "cell_type": "code",
   "execution_count": 3,
   "metadata": {},
   "outputs": [],
   "source": [
    "from config import config\n",
    "params = config()"
   ]
  },
  {
   "cell_type": "code",
   "execution_count": 4,
   "metadata": {},
   "outputs": [],
   "source": [
    "from sqlalchemy import create_engine\n",
    "\n",
    "# Postgres username, password, and database name\n",
    "POSTGRES_ADDRESS = params['host']\n",
    "POSTGRES_PORT = params['port']\n",
    "POSTGRES_USERNAME = params['username']\n",
    "POSTGRES_PASSWORD = params['password']\n",
    "POSTGRES_DBNAME = params['database']\n",
    "\n",
    "# A long string that contains the necessary Postgres login information\n",
    "postgres_str = ('postgresql://{username}:{password}@{ipaddress}:{port}/{dbname}'.format(username=POSTGRES_USERNAME,\n",
    "                                                                                        password=POSTGRES_PASSWORD,\n",
    "                                                                                        ipaddress=POSTGRES_ADDRESS,\n",
    "                                                                                        port=POSTGRES_PORT,\n",
    "                                                                                        dbname=POSTGRES_DBNAME))\n",
    "# Create the connection\n",
    "engine = create_engine(postgres_str) \n",
    "Session = sessionmaker(bind=engine)\n",
    "session = Session()"
   ]
  },
  {
   "cell_type": "markdown",
   "metadata": {},
   "source": [
    "<a id=schema></a>"
   ]
  },
  {
   "cell_type": "markdown",
   "metadata": {},
   "source": [
    "## Schema"
   ]
  },
  {
   "cell_type": "markdown",
   "metadata": {},
   "source": [
    "<br>\n",
    "<img src=\"img/schema.png\" style=\"width: 500px;\"/>"
   ]
  },
  {
   "cell_type": "markdown",
   "metadata": {},
   "source": [
    "**Note** I create a dictionary with the table and fields to have them readily available when needed"
   ]
  },
  {
   "cell_type": "code",
   "execution_count": 5,
   "metadata": {},
   "outputs": [],
   "source": [
    "tables = ['category','inventory', 'customer', 'film_category', 'rental', 'address', \n",
    "          'film', 'payment', 'staff', 'city', 'country', 'store', 'actor', 'film_actor', 'language']"
   ]
  },
  {
   "cell_type": "code",
   "execution_count": 6,
   "metadata": {},
   "outputs": [],
   "source": [
    "dic = dict()\n",
    "for table in tables:\n",
    "    df = pd.read_sql_query('SELECT * FROM {}'.format(table), engine)\n",
    "    fields = df.columns\n",
    "    dic[table] = fields.to_list()\n"
   ]
  },
  {
   "cell_type": "code",
   "execution_count": 7,
   "metadata": {},
   "outputs": [
    {
     "name": "stdout",
     "output_type": "stream",
     "text": [
      "category ['category_id', 'name', 'last_update']\n",
      "inventory ['inventory_id', 'film_id', 'store_id', 'last_update']\n",
      "customer ['customer_id', 'store_id', 'first_name', 'last_name', 'email', 'address_id', 'activebool', 'create_date', 'last_update', 'active']\n",
      "film_category ['film_id', 'category_id', 'last_update']\n",
      "rental ['rental_id', 'rental_date', 'inventory_id', 'customer_id', 'return_date', 'staff_id', 'last_update']\n",
      "address ['address_id', 'address', 'address2', 'district', 'city_id', 'postal_code', 'phone', 'last_update']\n",
      "film ['film_id', 'title', 'description', 'release_year', 'language_id', 'rental_duration', 'rental_rate', 'length', 'replacement_cost', 'rating', 'last_update', 'special_features', 'fulltext']\n",
      "payment ['payment_id', 'customer_id', 'staff_id', 'rental_id', 'amount', 'payment_date']\n",
      "staff ['staff_id', 'first_name', 'last_name', 'address_id', 'email', 'store_id', 'active', 'username', 'password', 'last_update', 'picture']\n",
      "city ['city_id', 'city', 'country_id', 'last_update']\n",
      "country ['country_id', 'country', 'last_update']\n",
      "store ['store_id', 'manager_staff_id', 'address_id', 'last_update']\n",
      "actor ['actor_id', 'first_name', 'last_name', 'last_update']\n",
      "film_actor ['actor_id', 'film_id', 'last_update']\n",
      "language ['language_id', 'name', 'last_update']\n"
     ]
    }
   ],
   "source": [
    "for key, value in dic.items():\n",
    "    print(key,value)"
   ]
  },
  {
   "cell_type": "markdown",
   "metadata": {},
   "source": [
    "<a id=Exercises></a>"
   ]
  },
  {
   "cell_type": "markdown",
   "metadata": {},
   "source": [
    "## Exercises"
   ]
  },
  {
   "cell_type": "markdown",
   "metadata": {},
   "source": [
    "<a id=median></a>"
   ]
  },
  {
   "cell_type": "markdown",
   "metadata": {},
   "source": [
    "<div class=\"span5 alert alert-info\">\n",
    "    <h3> Median of inventory</h3>\n",
    "\n",
    "**Information:** Get the median of films this dvd rental company has on stocks. Use the `inventory` table.\n",
    "</div>"
   ]
  },
  {
   "cell_type": "code",
   "execution_count": 8,
   "metadata": {},
   "outputs": [
    {
     "data": {
      "text/html": [
       "<div>\n",
       "<style scoped>\n",
       "    .dataframe tbody tr th:only-of-type {\n",
       "        vertical-align: middle;\n",
       "    }\n",
       "\n",
       "    .dataframe tbody tr th {\n",
       "        vertical-align: top;\n",
       "    }\n",
       "\n",
       "    .dataframe thead th {\n",
       "        text-align: right;\n",
       "    }\n",
       "</style>\n",
       "<table border=\"1\" class=\"dataframe\">\n",
       "  <thead>\n",
       "    <tr style=\"text-align: right;\">\n",
       "      <th></th>\n",
       "      <th>median</th>\n",
       "    </tr>\n",
       "  </thead>\n",
       "  <tbody>\n",
       "    <tr>\n",
       "      <th>0</th>\n",
       "      <td>5.0</td>\n",
       "    </tr>\n",
       "  </tbody>\n",
       "</table>\n",
       "</div>"
      ],
      "text/plain": [
       "   median\n",
       "0     5.0"
      ]
     },
     "execution_count": 8,
     "metadata": {},
     "output_type": "execute_result"
    }
   ],
   "source": [
    "pd.read_sql_query('''\n",
    "WITH cte as (SELECT film_id, COUNT(film_id) as counter \n",
    "            FROM inventory \n",
    "            GROUP BY film_id \n",
    "            ORDER BY counter )\n",
    "\n",
    "SELECT PERCENTILE_CONT(0.5) WITHIN GROUP(ORDER BY counter) as median \n",
    "FROM cte\n",
    "\n",
    ";''', engine)\n"
   ]
  },
  {
   "cell_type": "markdown",
   "metadata": {},
   "source": [
    "<a id=filter></a>"
   ]
  },
  {
   "cell_type": "markdown",
   "metadata": {},
   "source": [
    "<div class=\"span5 alert alert-info\">\n",
    "    <h3> Number of films per rental price</h3>\n",
    "\n",
    "**Information:** Find the number of films in the dvd company for each rental price (use the `film` table and the `FILTER`function) <br>\n",
    "</div>"
   ]
  },
  {
   "cell_type": "code",
   "execution_count": 9,
   "metadata": {},
   "outputs": [
    {
     "data": {
      "text/html": [
       "<div>\n",
       "<style scoped>\n",
       "    .dataframe tbody tr th:only-of-type {\n",
       "        vertical-align: middle;\n",
       "    }\n",
       "\n",
       "    .dataframe tbody tr th {\n",
       "        vertical-align: top;\n",
       "    }\n",
       "\n",
       "    .dataframe thead th {\n",
       "        text-align: right;\n",
       "    }\n",
       "</style>\n",
       "<table border=\"1\" class=\"dataframe\">\n",
       "  <thead>\n",
       "    <tr style=\"text-align: right;\">\n",
       "      <th></th>\n",
       "      <th>count_all</th>\n",
       "      <th>price_099</th>\n",
       "      <th>price_299</th>\n",
       "      <th>price_499</th>\n",
       "    </tr>\n",
       "  </thead>\n",
       "  <tbody>\n",
       "    <tr>\n",
       "      <th>0</th>\n",
       "      <td>1000</td>\n",
       "      <td>341</td>\n",
       "      <td>323</td>\n",
       "      <td>336</td>\n",
       "    </tr>\n",
       "  </tbody>\n",
       "</table>\n",
       "</div>"
      ],
      "text/plain": [
       "   count_all  price_099  price_299  price_499\n",
       "0       1000        341        323        336"
      ]
     },
     "execution_count": 9,
     "metadata": {},
     "output_type": "execute_result"
    }
   ],
   "source": [
    "pd.read_sql_query('''\n",
    "SELECT count(*) count_all,\n",
    "       count(*) FILTER(WHERE rental_rate=0.99) price_099,\n",
    "       count(*) FILTER(WHERE rental_rate=2.99) price_299,\n",
    "       count(*) FILTER(WHERE rental_rate=4.99) price_499       \n",
    "  FROM film;\n",
    "\n",
    ";''', engine)"
   ]
  },
  {
   "cell_type": "markdown",
   "metadata": {},
   "source": [
    "<a id=mom></a>"
   ]
  },
  {
   "cell_type": "markdown",
   "metadata": {},
   "source": [
    "<div class=\"span5 alert alert-info\">\n",
    "    <h3> Month over Month number of new customers</h3>\n",
    "\n",
    "**Information:** Check how many new customers and the percent increase month to month<br>\n",
    "</div>"
   ]
  },
  {
   "cell_type": "markdown",
   "metadata": {},
   "source": [
    "**Note:** unfortunately there are no different creation dates, only one month"
   ]
  },
  {
   "cell_type": "code",
   "execution_count": 10,
   "metadata": {},
   "outputs": [
    {
     "data": {
      "text/html": [
       "<div>\n",
       "<style scoped>\n",
       "    .dataframe tbody tr th:only-of-type {\n",
       "        vertical-align: middle;\n",
       "    }\n",
       "\n",
       "    .dataframe tbody tr th {\n",
       "        vertical-align: top;\n",
       "    }\n",
       "\n",
       "    .dataframe thead th {\n",
       "        text-align: right;\n",
       "    }\n",
       "</style>\n",
       "<table border=\"1\" class=\"dataframe\">\n",
       "  <thead>\n",
       "    <tr style=\"text-align: right;\">\n",
       "      <th></th>\n",
       "      <th>date_trunc</th>\n",
       "      <th>date_trunc</th>\n",
       "    </tr>\n",
       "  </thead>\n",
       "  <tbody>\n",
       "  </tbody>\n",
       "</table>\n",
       "</div>"
      ],
      "text/plain": [
       "Empty DataFrame\n",
       "Columns: [date_trunc, date_trunc]\n",
       "Index: []"
      ]
     },
     "execution_count": 10,
     "metadata": {},
     "output_type": "execute_result"
    }
   ],
   "source": [
    "pd.read_sql_query('''\n",
    "SELECT DATE_TRUNC('month', t1.create_date), DATE_TRUNC('month', t2.create_date)\n",
    "FROM customer t1\n",
    "JOIN customer t2 ON t1.customer_id = t2.customer_id AND DATE_TRUNC('month', t1.create_date) = DATE_TRUNC('month', t2.create_date) + interval '1 month'  \n",
    ";''', engine)"
   ]
  },
  {
   "cell_type": "markdown",
   "metadata": {},
   "source": [
    "<a id=mau></a>"
   ]
  },
  {
   "cell_type": "markdown",
   "metadata": {},
   "source": [
    "<div class=\"span5 alert alert-info\">\n",
    "    <h3> Monthly Active Users (MAU), Retained Users per Month, Churned Users, </h3>\n",
    "\n",
    "**Information:** Questions from [Zachary Thomas](https://quip.com/2gwZArKuWk7W) <br>\n",
    "    - Task1: Get the total number of users (people who rented a movie each month)<br>\n",
    "    - Task2: Write a query that gets the number of retained users per month. In this case, retention for a given month is defined as the number of users who rented in that month who also rented in the immediately previous month. <br>\n",
    "    - Task3: Now we’ll take retention and turn it on its head: Write a query to find many users last month did not come back this month. i.e. the number of churned users.  <br>\n",
    "</div>"
   ]
  },
  {
   "cell_type": "code",
   "execution_count": 11,
   "metadata": {},
   "outputs": [
    {
     "data": {
      "text/plain": [
       "['rental_id',\n",
       " 'rental_date',\n",
       " 'inventory_id',\n",
       " 'customer_id',\n",
       " 'return_date',\n",
       " 'staff_id',\n",
       " 'last_update']"
      ]
     },
     "execution_count": 11,
     "metadata": {},
     "output_type": "execute_result"
    }
   ],
   "source": [
    "dic['rental']"
   ]
  },
  {
   "cell_type": "code",
   "execution_count": 12,
   "metadata": {},
   "outputs": [
    {
     "data": {
      "text/html": [
       "<div>\n",
       "<style scoped>\n",
       "    .dataframe tbody tr th:only-of-type {\n",
       "        vertical-align: middle;\n",
       "    }\n",
       "\n",
       "    .dataframe tbody tr th {\n",
       "        vertical-align: top;\n",
       "    }\n",
       "\n",
       "    .dataframe thead th {\n",
       "        text-align: right;\n",
       "    }\n",
       "</style>\n",
       "<table border=\"1\" class=\"dataframe\">\n",
       "  <thead>\n",
       "    <tr style=\"text-align: right;\">\n",
       "      <th></th>\n",
       "      <th>trunc</th>\n",
       "      <th>count</th>\n",
       "    </tr>\n",
       "  </thead>\n",
       "  <tbody>\n",
       "    <tr>\n",
       "      <th>0</th>\n",
       "      <td>2005-05-01</td>\n",
       "      <td>520</td>\n",
       "    </tr>\n",
       "    <tr>\n",
       "      <th>1</th>\n",
       "      <td>2005-06-01</td>\n",
       "      <td>590</td>\n",
       "    </tr>\n",
       "    <tr>\n",
       "      <th>2</th>\n",
       "      <td>2005-07-01</td>\n",
       "      <td>599</td>\n",
       "    </tr>\n",
       "    <tr>\n",
       "      <th>3</th>\n",
       "      <td>2005-08-01</td>\n",
       "      <td>599</td>\n",
       "    </tr>\n",
       "    <tr>\n",
       "      <th>4</th>\n",
       "      <td>2006-02-01</td>\n",
       "      <td>158</td>\n",
       "    </tr>\n",
       "  </tbody>\n",
       "</table>\n",
       "</div>"
      ],
      "text/plain": [
       "       trunc  count\n",
       "0 2005-05-01    520\n",
       "1 2005-06-01    590\n",
       "2 2005-07-01    599\n",
       "3 2005-08-01    599\n",
       "4 2006-02-01    158"
      ]
     },
     "execution_count": 12,
     "metadata": {},
     "output_type": "execute_result"
    }
   ],
   "source": [
    "pd.read_sql_query('''\n",
    "SELECT DATE_TRUNC('month', rental_date) as trunc, COUNT(DISTINCT(customer_id))\n",
    "FROM rental\n",
    "GROUP BY trunc\n",
    "ORDER BY trunc\n",
    ";''', engine)"
   ]
  },
  {
   "cell_type": "code",
   "execution_count": 13,
   "metadata": {},
   "outputs": [
    {
     "data": {
      "text/html": [
       "<div>\n",
       "<style scoped>\n",
       "    .dataframe tbody tr th:only-of-type {\n",
       "        vertical-align: middle;\n",
       "    }\n",
       "\n",
       "    .dataframe tbody tr th {\n",
       "        vertical-align: top;\n",
       "    }\n",
       "\n",
       "    .dataframe thead th {\n",
       "        text-align: right;\n",
       "    }\n",
       "</style>\n",
       "<table border=\"1\" class=\"dataframe\">\n",
       "  <thead>\n",
       "    <tr style=\"text-align: right;\">\n",
       "      <th></th>\n",
       "      <th>month</th>\n",
       "      <th>count</th>\n",
       "    </tr>\n",
       "  </thead>\n",
       "  <tbody>\n",
       "    <tr>\n",
       "      <th>0</th>\n",
       "      <td>6.0</td>\n",
       "      <td>512</td>\n",
       "    </tr>\n",
       "    <tr>\n",
       "      <th>1</th>\n",
       "      <td>7.0</td>\n",
       "      <td>590</td>\n",
       "    </tr>\n",
       "    <tr>\n",
       "      <th>2</th>\n",
       "      <td>8.0</td>\n",
       "      <td>599</td>\n",
       "    </tr>\n",
       "  </tbody>\n",
       "</table>\n",
       "</div>"
      ],
      "text/plain": [
       "   month  count\n",
       "0    6.0    512\n",
       "1    7.0    590\n",
       "2    8.0    599"
      ]
     },
     "execution_count": 13,
     "metadata": {},
     "output_type": "execute_result"
    }
   ],
   "source": [
    "pd.read_sql_query('''\n",
    "SELECT DATE_PART('month', DATE_TRUNC('month', t1.rental_date)) as Month, COUNT(DISTINCT(t1.customer_id))\n",
    "FROM rental as t1\n",
    "JOIN rental as t2 ON t1.customer_id = t2.customer_id AND DATE_TRUNC('month', t1.rental_date) = DATE_TRUNC('month', t2.rental_date) + interval '1 month'\n",
    "GROUP BY DATE_TRUNC('month', t1.rental_date)\n",
    ";''', engine)"
   ]
  },
  {
   "cell_type": "markdown",
   "metadata": {},
   "source": [
    "**Note:** February 2006 does not have a row because we are comparing with the previous \"real\" month, not the last recorded month"
   ]
  },
  {
   "cell_type": "code",
   "execution_count": 14,
   "metadata": {},
   "outputs": [
    {
     "data": {
      "text/html": [
       "<div>\n",
       "<style scoped>\n",
       "    .dataframe tbody tr th:only-of-type {\n",
       "        vertical-align: middle;\n",
       "    }\n",
       "\n",
       "    .dataframe tbody tr th {\n",
       "        vertical-align: top;\n",
       "    }\n",
       "\n",
       "    .dataframe thead th {\n",
       "        text-align: right;\n",
       "    }\n",
       "</style>\n",
       "<table border=\"1\" class=\"dataframe\">\n",
       "  <thead>\n",
       "    <tr style=\"text-align: right;\">\n",
       "      <th></th>\n",
       "      <th>date_trunc</th>\n",
       "      <th>count</th>\n",
       "    </tr>\n",
       "  </thead>\n",
       "  <tbody>\n",
       "    <tr>\n",
       "      <th>0</th>\n",
       "      <td>2005-05-01</td>\n",
       "      <td>520</td>\n",
       "    </tr>\n",
       "    <tr>\n",
       "      <th>1</th>\n",
       "      <td>2005-06-01</td>\n",
       "      <td>78</td>\n",
       "    </tr>\n",
       "    <tr>\n",
       "      <th>2</th>\n",
       "      <td>2005-07-01</td>\n",
       "      <td>9</td>\n",
       "    </tr>\n",
       "    <tr>\n",
       "      <th>3</th>\n",
       "      <td>2006-02-01</td>\n",
       "      <td>158</td>\n",
       "    </tr>\n",
       "  </tbody>\n",
       "</table>\n",
       "</div>"
      ],
      "text/plain": [
       "  date_trunc  count\n",
       "0 2005-05-01    520\n",
       "1 2005-06-01     78\n",
       "2 2005-07-01      9\n",
       "3 2006-02-01    158"
      ]
     },
     "execution_count": 14,
     "metadata": {},
     "output_type": "execute_result"
    }
   ],
   "source": [
    "pd.read_sql_query('''\n",
    "SELECT DATE_TRUNC('month', t1.rental_date), COUNT(DISTINCT(t1.customer_id))\n",
    "FROM rental as t1\n",
    "LEFT JOIN rental as t2 ON t1.customer_id = t2.customer_id AND DATE_TRUNC('month', t1.rental_date) = DATE_TRUNC('month', t2.rental_date) + interval '1 month'\n",
    "WHERE t2.customer_id IS NULL\n",
    "GROUP BY DATE_TRUNC('month', t1.rental_date)\n",
    ";''', engine)"
   ]
  },
  {
   "cell_type": "markdown",
   "metadata": {},
   "source": [
    "<a id=cumsum></a>"
   ]
  },
  {
   "cell_type": "markdown",
   "metadata": {},
   "source": [
    "<div class=\"span5 alert alert-info\">\n",
    "    <h3> Cummulative Sum</h3>\n",
    "\n",
    "**Information:** Find the total revenue generated each day and provide the cummulative sum of the previous days<br>\n",
    "</div>"
   ]
  },
  {
   "cell_type": "markdown",
   "metadata": {},
   "source": [
    "Good resource: [link](http://www.dba-oracle.com/t_advanced_sql_windowing_clause.htm)"
   ]
  },
  {
   "cell_type": "code",
   "execution_count": 15,
   "metadata": {},
   "outputs": [
    {
     "data": {
      "text/html": [
       "<div>\n",
       "<style scoped>\n",
       "    .dataframe tbody tr th:only-of-type {\n",
       "        vertical-align: middle;\n",
       "    }\n",
       "\n",
       "    .dataframe tbody tr th {\n",
       "        vertical-align: top;\n",
       "    }\n",
       "\n",
       "    .dataframe thead th {\n",
       "        text-align: right;\n",
       "    }\n",
       "</style>\n",
       "<table border=\"1\" class=\"dataframe\">\n",
       "  <thead>\n",
       "    <tr style=\"text-align: right;\">\n",
       "      <th></th>\n",
       "      <th>date</th>\n",
       "      <th>daily_total</th>\n",
       "      <th>total</th>\n",
       "    </tr>\n",
       "  </thead>\n",
       "  <tbody>\n",
       "    <tr>\n",
       "      <th>0</th>\n",
       "      <td>2005-06-14</td>\n",
       "      <td>41.89</td>\n",
       "      <td>41.89</td>\n",
       "    </tr>\n",
       "    <tr>\n",
       "      <th>1</th>\n",
       "      <td>2005-06-15</td>\n",
       "      <td>1179.97</td>\n",
       "      <td>1221.86</td>\n",
       "    </tr>\n",
       "    <tr>\n",
       "      <th>2</th>\n",
       "      <td>2005-06-16</td>\n",
       "      <td>1191.11</td>\n",
       "      <td>2412.97</td>\n",
       "    </tr>\n",
       "    <tr>\n",
       "      <th>3</th>\n",
       "      <td>2005-06-17</td>\n",
       "      <td>1158.19</td>\n",
       "      <td>3571.16</td>\n",
       "    </tr>\n",
       "    <tr>\n",
       "      <th>4</th>\n",
       "      <td>2005-06-18</td>\n",
       "      <td>1284.99</td>\n",
       "      <td>4856.15</td>\n",
       "    </tr>\n",
       "  </tbody>\n",
       "</table>\n",
       "</div>"
      ],
      "text/plain": [
       "        date  daily_total    total\n",
       "0 2005-06-14        41.89    41.89\n",
       "1 2005-06-15      1179.97  1221.86\n",
       "2 2005-06-16      1191.11  2412.97\n",
       "3 2005-06-17      1158.19  3571.16\n",
       "4 2005-06-18      1284.99  4856.15"
      ]
     },
     "execution_count": 15,
     "metadata": {},
     "output_type": "execute_result"
    }
   ],
   "source": [
    "pd.read_sql_query('''\n",
    "WITH cte as (SELECT DATE_TRUNC('day',rental_date) as date, SUM(amount) as daily_total\n",
    "FROM rental t1\n",
    "JOIN payment t2 ON t1.rental_id = t2.rental_id\n",
    "GROUP BY DATE_TRUNC('day',rental_date)\n",
    "ORDER BY date)\n",
    "\n",
    "SELECT date, daily_total, SUM(daily_total) OVER (ROWS BETWEEN UNBOUNDED PRECEDING AND CURRENT ROW) as total\n",
    "FROM cte\n",
    ";''', engine).head()"
   ]
  },
  {
   "cell_type": "markdown",
   "metadata": {},
   "source": [
    "**The solution bellow is provided by Thomas on his website**"
   ]
  },
  {
   "cell_type": "code",
   "execution_count": 16,
   "metadata": {},
   "outputs": [
    {
     "data": {
      "text/html": [
       "<div>\n",
       "<style scoped>\n",
       "    .dataframe tbody tr th:only-of-type {\n",
       "        vertical-align: middle;\n",
       "    }\n",
       "\n",
       "    .dataframe tbody tr th {\n",
       "        vertical-align: top;\n",
       "    }\n",
       "\n",
       "    .dataframe thead th {\n",
       "        text-align: right;\n",
       "    }\n",
       "</style>\n",
       "<table border=\"1\" class=\"dataframe\">\n",
       "  <thead>\n",
       "    <tr style=\"text-align: right;\">\n",
       "      <th></th>\n",
       "      <th>date</th>\n",
       "      <th>cumulative_cf</th>\n",
       "    </tr>\n",
       "  </thead>\n",
       "  <tbody>\n",
       "    <tr>\n",
       "      <th>0</th>\n",
       "      <td>2005-06-14</td>\n",
       "      <td>41.89</td>\n",
       "    </tr>\n",
       "    <tr>\n",
       "      <th>1</th>\n",
       "      <td>2005-06-15</td>\n",
       "      <td>1221.86</td>\n",
       "    </tr>\n",
       "    <tr>\n",
       "      <th>2</th>\n",
       "      <td>2005-06-16</td>\n",
       "      <td>2412.97</td>\n",
       "    </tr>\n",
       "    <tr>\n",
       "      <th>3</th>\n",
       "      <td>2005-06-17</td>\n",
       "      <td>3571.16</td>\n",
       "    </tr>\n",
       "    <tr>\n",
       "      <th>4</th>\n",
       "      <td>2005-06-18</td>\n",
       "      <td>4856.15</td>\n",
       "    </tr>\n",
       "  </tbody>\n",
       "</table>\n",
       "</div>"
      ],
      "text/plain": [
       "        date  cumulative_cf\n",
       "0 2005-06-14          41.89\n",
       "1 2005-06-15        1221.86\n",
       "2 2005-06-16        2412.97\n",
       "3 2005-06-17        3571.16\n",
       "4 2005-06-18        4856.15"
      ]
     },
     "execution_count": 16,
     "metadata": {},
     "output_type": "execute_result"
    }
   ],
   "source": [
    "pd.read_sql_query('''\n",
    "WITH cte as (SELECT DATE_TRUNC('day',rental_date) as date, SUM(amount) as daily_total\n",
    "FROM rental t1\n",
    "JOIN payment t2 ON t1.rental_id = t2.rental_id\n",
    "GROUP BY DATE_TRUNC('day',rental_date)\n",
    "ORDER BY date)\n",
    "\n",
    "SELECT date, SUM(daily_total) OVER (ORDER BY date ASC) as cumulative_cf \n",
    "FROM cte \n",
    "ORDER BY date ASC\n",
    "\n",
    ";''', engine).head()"
   ]
  },
  {
   "cell_type": "markdown",
   "metadata": {},
   "source": [
    "<a id=moving_averages></a>"
   ]
  },
  {
   "cell_type": "markdown",
   "metadata": {},
   "source": [
    "<div class=\"span5 alert alert-info\">\n",
    "    <h3> Moving Averages</h3>\n",
    "\n",
    "**Information:** <br>\n",
    "    - Exercise 1: Find the 7 day moving average of the number of daily rentals<br>\n",
    "    - Exercise 2: Find the cummulative average of daily rentals<br>\n",
    "</div>"
   ]
  },
  {
   "cell_type": "code",
   "execution_count": 17,
   "metadata": {},
   "outputs": [
    {
     "data": {
      "text/plain": [
       "['rental_id',\n",
       " 'rental_date',\n",
       " 'inventory_id',\n",
       " 'customer_id',\n",
       " 'return_date',\n",
       " 'staff_id',\n",
       " 'last_update']"
      ]
     },
     "execution_count": 17,
     "metadata": {},
     "output_type": "execute_result"
    }
   ],
   "source": [
    "dic['rental']"
   ]
  },
  {
   "cell_type": "markdown",
   "metadata": {},
   "source": [
    "### Part 1: 7 day Moving Average"
   ]
  },
  {
   "cell_type": "code",
   "execution_count": 18,
   "metadata": {},
   "outputs": [
    {
     "data": {
      "text/html": [
       "<div>\n",
       "<style scoped>\n",
       "    .dataframe tbody tr th:only-of-type {\n",
       "        vertical-align: middle;\n",
       "    }\n",
       "\n",
       "    .dataframe tbody tr th {\n",
       "        vertical-align: top;\n",
       "    }\n",
       "\n",
       "    .dataframe thead th {\n",
       "        text-align: right;\n",
       "    }\n",
       "</style>\n",
       "<table border=\"1\" class=\"dataframe\">\n",
       "  <thead>\n",
       "    <tr style=\"text-align: right;\">\n",
       "      <th></th>\n",
       "      <th>day</th>\n",
       "      <th>count</th>\n",
       "      <th>rolling_avg</th>\n",
       "    </tr>\n",
       "  </thead>\n",
       "  <tbody>\n",
       "    <tr>\n",
       "      <th>0</th>\n",
       "      <td>2005-05-24</td>\n",
       "      <td>8</td>\n",
       "      <td>8.000000</td>\n",
       "    </tr>\n",
       "    <tr>\n",
       "      <th>1</th>\n",
       "      <td>2005-05-25</td>\n",
       "      <td>137</td>\n",
       "      <td>72.500000</td>\n",
       "    </tr>\n",
       "    <tr>\n",
       "      <th>2</th>\n",
       "      <td>2005-05-26</td>\n",
       "      <td>174</td>\n",
       "      <td>106.333333</td>\n",
       "    </tr>\n",
       "    <tr>\n",
       "      <th>3</th>\n",
       "      <td>2005-05-27</td>\n",
       "      <td>166</td>\n",
       "      <td>121.250000</td>\n",
       "    </tr>\n",
       "    <tr>\n",
       "      <th>4</th>\n",
       "      <td>2005-05-28</td>\n",
       "      <td>196</td>\n",
       "      <td>136.200000</td>\n",
       "    </tr>\n",
       "    <tr>\n",
       "      <th>5</th>\n",
       "      <td>2005-05-29</td>\n",
       "      <td>154</td>\n",
       "      <td>139.166667</td>\n",
       "    </tr>\n",
       "    <tr>\n",
       "      <th>6</th>\n",
       "      <td>2005-05-30</td>\n",
       "      <td>158</td>\n",
       "      <td>141.857143</td>\n",
       "    </tr>\n",
       "    <tr>\n",
       "      <th>7</th>\n",
       "      <td>2005-05-31</td>\n",
       "      <td>163</td>\n",
       "      <td>164.000000</td>\n",
       "    </tr>\n",
       "    <tr>\n",
       "      <th>8</th>\n",
       "      <td>2005-06-14</td>\n",
       "      <td>16</td>\n",
       "      <td>146.714286</td>\n",
       "    </tr>\n",
       "    <tr>\n",
       "      <th>9</th>\n",
       "      <td>2005-06-15</td>\n",
       "      <td>348</td>\n",
       "      <td>171.571429</td>\n",
       "    </tr>\n",
       "  </tbody>\n",
       "</table>\n",
       "</div>"
      ],
      "text/plain": [
       "         day  count  rolling_avg\n",
       "0 2005-05-24      8     8.000000\n",
       "1 2005-05-25    137    72.500000\n",
       "2 2005-05-26    174   106.333333\n",
       "3 2005-05-27    166   121.250000\n",
       "4 2005-05-28    196   136.200000\n",
       "5 2005-05-29    154   139.166667\n",
       "6 2005-05-30    158   141.857143\n",
       "7 2005-05-31    163   164.000000\n",
       "8 2005-06-14     16   146.714286\n",
       "9 2005-06-15    348   171.571429"
      ]
     },
     "execution_count": 18,
     "metadata": {},
     "output_type": "execute_result"
    }
   ],
   "source": [
    "pd.read_sql_query('''\n",
    "WITH cte as (SELECT DATE_TRUNC('day', rental_date) as day, rental_id\n",
    "FROM rental),\n",
    "\n",
    "cte2 as (SELECT day, COUNT(rental_id)\n",
    "FROM cte\n",
    "GROUP BY day\n",
    "ORDER BY day)\n",
    "\n",
    "SELECT day, count, AVG(count) OVER (ROWS BETWEEN 6 PRECEDING AND CURRENT ROW) as rolling_avg\n",
    "FROM cte2\n",
    ";''', engine).head(10)"
   ]
  },
  {
   "cell_type": "markdown",
   "metadata": {},
   "source": [
    "**Check:** let's make sure this has been done correctly by doing the rolling average with pandas' `window` function"
   ]
  },
  {
   "cell_type": "code",
   "execution_count": 19,
   "metadata": {},
   "outputs": [
    {
     "data": {
      "text/html": [
       "<div>\n",
       "<style scoped>\n",
       "    .dataframe tbody tr th:only-of-type {\n",
       "        vertical-align: middle;\n",
       "    }\n",
       "\n",
       "    .dataframe tbody tr th {\n",
       "        vertical-align: top;\n",
       "    }\n",
       "\n",
       "    .dataframe thead th {\n",
       "        text-align: right;\n",
       "    }\n",
       "</style>\n",
       "<table border=\"1\" class=\"dataframe\">\n",
       "  <thead>\n",
       "    <tr style=\"text-align: right;\">\n",
       "      <th></th>\n",
       "      <th>day</th>\n",
       "      <th>count</th>\n",
       "      <th>sql_ma_7</th>\n",
       "      <th>pandas_MA_7</th>\n",
       "      <th>difference</th>\n",
       "    </tr>\n",
       "  </thead>\n",
       "  <tbody>\n",
       "    <tr>\n",
       "      <th>0</th>\n",
       "      <td>2005-05-24</td>\n",
       "      <td>8</td>\n",
       "      <td>8.000000</td>\n",
       "      <td>NaN</td>\n",
       "      <td>NaN</td>\n",
       "    </tr>\n",
       "    <tr>\n",
       "      <th>1</th>\n",
       "      <td>2005-05-25</td>\n",
       "      <td>137</td>\n",
       "      <td>72.500000</td>\n",
       "      <td>NaN</td>\n",
       "      <td>NaN</td>\n",
       "    </tr>\n",
       "    <tr>\n",
       "      <th>2</th>\n",
       "      <td>2005-05-26</td>\n",
       "      <td>174</td>\n",
       "      <td>106.333333</td>\n",
       "      <td>NaN</td>\n",
       "      <td>NaN</td>\n",
       "    </tr>\n",
       "    <tr>\n",
       "      <th>3</th>\n",
       "      <td>2005-05-27</td>\n",
       "      <td>166</td>\n",
       "      <td>121.250000</td>\n",
       "      <td>NaN</td>\n",
       "      <td>NaN</td>\n",
       "    </tr>\n",
       "    <tr>\n",
       "      <th>4</th>\n",
       "      <td>2005-05-28</td>\n",
       "      <td>196</td>\n",
       "      <td>136.200000</td>\n",
       "      <td>NaN</td>\n",
       "      <td>NaN</td>\n",
       "    </tr>\n",
       "    <tr>\n",
       "      <th>5</th>\n",
       "      <td>2005-05-29</td>\n",
       "      <td>154</td>\n",
       "      <td>139.166667</td>\n",
       "      <td>NaN</td>\n",
       "      <td>NaN</td>\n",
       "    </tr>\n",
       "    <tr>\n",
       "      <th>6</th>\n",
       "      <td>2005-05-30</td>\n",
       "      <td>158</td>\n",
       "      <td>141.857143</td>\n",
       "      <td>141.857143</td>\n",
       "      <td>0.0</td>\n",
       "    </tr>\n",
       "    <tr>\n",
       "      <th>7</th>\n",
       "      <td>2005-05-31</td>\n",
       "      <td>163</td>\n",
       "      <td>164.000000</td>\n",
       "      <td>164.000000</td>\n",
       "      <td>0.0</td>\n",
       "    </tr>\n",
       "    <tr>\n",
       "      <th>8</th>\n",
       "      <td>2005-06-14</td>\n",
       "      <td>16</td>\n",
       "      <td>146.714286</td>\n",
       "      <td>146.714286</td>\n",
       "      <td>0.0</td>\n",
       "    </tr>\n",
       "    <tr>\n",
       "      <th>9</th>\n",
       "      <td>2005-06-15</td>\n",
       "      <td>348</td>\n",
       "      <td>171.571429</td>\n",
       "      <td>171.571429</td>\n",
       "      <td>0.0</td>\n",
       "    </tr>\n",
       "  </tbody>\n",
       "</table>\n",
       "</div>"
      ],
      "text/plain": [
       "         day  count    sql_ma_7  pandas_MA_7  difference\n",
       "0 2005-05-24      8    8.000000          NaN         NaN\n",
       "1 2005-05-25    137   72.500000          NaN         NaN\n",
       "2 2005-05-26    174  106.333333          NaN         NaN\n",
       "3 2005-05-27    166  121.250000          NaN         NaN\n",
       "4 2005-05-28    196  136.200000          NaN         NaN\n",
       "5 2005-05-29    154  139.166667          NaN         NaN\n",
       "6 2005-05-30    158  141.857143   141.857143         0.0\n",
       "7 2005-05-31    163  164.000000   164.000000         0.0\n",
       "8 2005-06-14     16  146.714286   146.714286         0.0\n",
       "9 2005-06-15    348  171.571429   171.571429         0.0"
      ]
     },
     "execution_count": 19,
     "metadata": {},
     "output_type": "execute_result"
    }
   ],
   "source": [
    "df = pd.read_sql_query('''\n",
    "WITH cte as (SELECT DATE_TRUNC('day', rental_date) as day, rental_id\n",
    "FROM rental),\n",
    "\n",
    "cte2 as (SELECT day, COUNT(rental_id)\n",
    "FROM cte\n",
    "GROUP BY day\n",
    "ORDER BY day)\n",
    "\n",
    "SELECT day, count, AVG(count) OVER (ROWS BETWEEN 6 PRECEDING AND CURRENT ROW) as SQL_MA_7\n",
    "FROM cte2\n",
    ";''', engine).head(10)\n",
    "\n",
    "df['pandas_MA_7'] = df.iloc[:,1].rolling(window=7).mean()\n",
    "df['difference']= df['sql_ma_7'] - df['pandas_MA_7']\n",
    "df.head(10)"
   ]
  },
  {
   "cell_type": "markdown",
   "metadata": {},
   "source": [
    "### Part 2: Cummulative AVG"
   ]
  },
  {
   "cell_type": "code",
   "execution_count": 20,
   "metadata": {},
   "outputs": [
    {
     "data": {
      "text/html": [
       "<div>\n",
       "<style scoped>\n",
       "    .dataframe tbody tr th:only-of-type {\n",
       "        vertical-align: middle;\n",
       "    }\n",
       "\n",
       "    .dataframe tbody tr th {\n",
       "        vertical-align: top;\n",
       "    }\n",
       "\n",
       "    .dataframe thead th {\n",
       "        text-align: right;\n",
       "    }\n",
       "</style>\n",
       "<table border=\"1\" class=\"dataframe\">\n",
       "  <thead>\n",
       "    <tr style=\"text-align: right;\">\n",
       "      <th></th>\n",
       "      <th>day</th>\n",
       "      <th>count</th>\n",
       "      <th>cummulative_avg</th>\n",
       "    </tr>\n",
       "  </thead>\n",
       "  <tbody>\n",
       "    <tr>\n",
       "      <th>0</th>\n",
       "      <td>2005-05-24</td>\n",
       "      <td>8</td>\n",
       "      <td>8.000000</td>\n",
       "    </tr>\n",
       "    <tr>\n",
       "      <th>1</th>\n",
       "      <td>2005-05-25</td>\n",
       "      <td>137</td>\n",
       "      <td>72.500000</td>\n",
       "    </tr>\n",
       "    <tr>\n",
       "      <th>2</th>\n",
       "      <td>2005-05-26</td>\n",
       "      <td>174</td>\n",
       "      <td>106.333333</td>\n",
       "    </tr>\n",
       "    <tr>\n",
       "      <th>3</th>\n",
       "      <td>2005-05-27</td>\n",
       "      <td>166</td>\n",
       "      <td>121.250000</td>\n",
       "    </tr>\n",
       "    <tr>\n",
       "      <th>4</th>\n",
       "      <td>2005-05-28</td>\n",
       "      <td>196</td>\n",
       "      <td>136.200000</td>\n",
       "    </tr>\n",
       "  </tbody>\n",
       "</table>\n",
       "</div>"
      ],
      "text/plain": [
       "         day  count  cummulative_avg\n",
       "0 2005-05-24      8         8.000000\n",
       "1 2005-05-25    137        72.500000\n",
       "2 2005-05-26    174       106.333333\n",
       "3 2005-05-27    166       121.250000\n",
       "4 2005-05-28    196       136.200000"
      ]
     },
     "execution_count": 20,
     "metadata": {},
     "output_type": "execute_result"
    }
   ],
   "source": [
    "pd.read_sql_query('''\n",
    "WITH cte as (SELECT DATE_TRUNC('day', rental_date) as day, rental_id\n",
    "FROM rental),\n",
    "\n",
    "cte2 as (SELECT day, COUNT(rental_id)\n",
    "FROM cte\n",
    "GROUP BY day\n",
    "ORDER BY day)\n",
    "\n",
    "SELECT day, count, AVG(count) OVER (ROWS BETWEEN UNBOUNDED PRECEDING AND CURRENT ROW) as cummulative_avg \n",
    "FROM cte2\n",
    ";''', engine).head()"
   ]
  },
  {
   "cell_type": "markdown",
   "metadata": {},
   "source": [
    "**Check:** let's make sure this has been done correctly by doing the cummulative average with pandas' `expanding` function"
   ]
  },
  {
   "cell_type": "code",
   "execution_count": 21,
   "metadata": {},
   "outputs": [
    {
     "data": {
      "text/html": [
       "<div>\n",
       "<style scoped>\n",
       "    .dataframe tbody tr th:only-of-type {\n",
       "        vertical-align: middle;\n",
       "    }\n",
       "\n",
       "    .dataframe tbody tr th {\n",
       "        vertical-align: top;\n",
       "    }\n",
       "\n",
       "    .dataframe thead th {\n",
       "        text-align: right;\n",
       "    }\n",
       "</style>\n",
       "<table border=\"1\" class=\"dataframe\">\n",
       "  <thead>\n",
       "    <tr style=\"text-align: right;\">\n",
       "      <th></th>\n",
       "      <th>day</th>\n",
       "      <th>count</th>\n",
       "      <th>cummulative_avg</th>\n",
       "      <th>pandas_cum_avg</th>\n",
       "      <th>difference</th>\n",
       "    </tr>\n",
       "  </thead>\n",
       "  <tbody>\n",
       "    <tr>\n",
       "      <th>0</th>\n",
       "      <td>2005-05-24</td>\n",
       "      <td>8</td>\n",
       "      <td>8.000000</td>\n",
       "      <td>8.000000</td>\n",
       "      <td>0.0</td>\n",
       "    </tr>\n",
       "    <tr>\n",
       "      <th>1</th>\n",
       "      <td>2005-05-25</td>\n",
       "      <td>137</td>\n",
       "      <td>72.500000</td>\n",
       "      <td>72.500000</td>\n",
       "      <td>0.0</td>\n",
       "    </tr>\n",
       "    <tr>\n",
       "      <th>2</th>\n",
       "      <td>2005-05-26</td>\n",
       "      <td>174</td>\n",
       "      <td>106.333333</td>\n",
       "      <td>106.333333</td>\n",
       "      <td>0.0</td>\n",
       "    </tr>\n",
       "    <tr>\n",
       "      <th>3</th>\n",
       "      <td>2005-05-27</td>\n",
       "      <td>166</td>\n",
       "      <td>121.250000</td>\n",
       "      <td>121.250000</td>\n",
       "      <td>0.0</td>\n",
       "    </tr>\n",
       "    <tr>\n",
       "      <th>4</th>\n",
       "      <td>2005-05-28</td>\n",
       "      <td>196</td>\n",
       "      <td>136.200000</td>\n",
       "      <td>136.200000</td>\n",
       "      <td>0.0</td>\n",
       "    </tr>\n",
       "  </tbody>\n",
       "</table>\n",
       "</div>"
      ],
      "text/plain": [
       "         day  count  cummulative_avg  pandas_cum_avg  difference\n",
       "0 2005-05-24      8         8.000000        8.000000         0.0\n",
       "1 2005-05-25    137        72.500000       72.500000         0.0\n",
       "2 2005-05-26    174       106.333333      106.333333         0.0\n",
       "3 2005-05-27    166       121.250000      121.250000         0.0\n",
       "4 2005-05-28    196       136.200000      136.200000         0.0"
      ]
     },
     "execution_count": 21,
     "metadata": {},
     "output_type": "execute_result"
    }
   ],
   "source": [
    "df = pd.read_sql_query('''\n",
    "WITH cte as (SELECT DATE_TRUNC('day', rental_date) as day, rental_id\n",
    "FROM rental),\n",
    "\n",
    "cte2 as (SELECT day, COUNT(rental_id)\n",
    "FROM cte\n",
    "GROUP BY day\n",
    "ORDER BY day)\n",
    "\n",
    "SELECT day, count, AVG(count) OVER (ROWS BETWEEN UNBOUNDED PRECEDING AND CURRENT ROW) as cummulative_avg \n",
    "FROM cte2\n",
    ";''', engine)\n",
    "\n",
    "df['pandas_cum_avg'] = df['count'].expanding(min_periods=1).mean()\n",
    "df['difference'] = df['cummulative_avg'] - df['pandas_cum_avg']\n",
    "df.head()"
   ]
  },
  {
   "cell_type": "markdown",
   "metadata": {},
   "source": [
    "<a id=ranking></a>"
   ]
  },
  {
   "cell_type": "markdown",
   "metadata": {},
   "source": [
    "<div class=\"span5 alert alert-info\">\n",
    "    <h3> Ranking</h3>\n",
    "\n",
    "**Information:**<br>\n",
    "    - Exercise 1: Rank the PG-13 movies from longest to shortest and select the rows with the titles that contain the longest and shortest movies. Note: if there are two movies that have the same lenght, these should be given the rank 1 and the next longest films show receive rank 2 not 3<br>\n",
    "    - Exercise 2: Find the monthly sales by employee, rank them in order from largest total sales to lowest total sales. Return: the rank, the total_sales, the month, the staff_id, the name, the last name.\n",
    "</div>"
   ]
  },
  {
   "cell_type": "markdown",
   "metadata": {},
   "source": [
    "### Part 1: Ranking of Longest and shortes PG-13 Movies"
   ]
  },
  {
   "cell_type": "code",
   "execution_count": 22,
   "metadata": {},
   "outputs": [
    {
     "data": {
      "text/plain": [
       "['film_id',\n",
       " 'title',\n",
       " 'description',\n",
       " 'release_year',\n",
       " 'language_id',\n",
       " 'rental_duration',\n",
       " 'rental_rate',\n",
       " 'length',\n",
       " 'replacement_cost',\n",
       " 'rating',\n",
       " 'last_update',\n",
       " 'special_features',\n",
       " 'fulltext']"
      ]
     },
     "execution_count": 22,
     "metadata": {},
     "output_type": "execute_result"
    }
   ],
   "source": [
    "dic['film']"
   ]
  },
  {
   "cell_type": "code",
   "execution_count": 23,
   "metadata": {},
   "outputs": [
    {
     "data": {
      "text/html": [
       "<div>\n",
       "<style scoped>\n",
       "    .dataframe tbody tr th:only-of-type {\n",
       "        vertical-align: middle;\n",
       "    }\n",
       "\n",
       "    .dataframe tbody tr th {\n",
       "        vertical-align: top;\n",
       "    }\n",
       "\n",
       "    .dataframe thead th {\n",
       "        text-align: right;\n",
       "    }\n",
       "</style>\n",
       "<table border=\"1\" class=\"dataframe\">\n",
       "  <thead>\n",
       "    <tr style=\"text-align: right;\">\n",
       "      <th></th>\n",
       "      <th>title</th>\n",
       "      <th>rating</th>\n",
       "      <th>length</th>\n",
       "      <th>dense_rank</th>\n",
       "    </tr>\n",
       "  </thead>\n",
       "  <tbody>\n",
       "    <tr>\n",
       "      <th>0</th>\n",
       "      <td>Chicago North</td>\n",
       "      <td>PG-13</td>\n",
       "      <td>185</td>\n",
       "      <td>1</td>\n",
       "    </tr>\n",
       "    <tr>\n",
       "      <th>1</th>\n",
       "      <td>Gangs Pride</td>\n",
       "      <td>PG-13</td>\n",
       "      <td>185</td>\n",
       "      <td>1</td>\n",
       "    </tr>\n",
       "    <tr>\n",
       "      <th>2</th>\n",
       "      <td>Pond Seattle</td>\n",
       "      <td>PG-13</td>\n",
       "      <td>185</td>\n",
       "      <td>1</td>\n",
       "    </tr>\n",
       "    <tr>\n",
       "      <th>3</th>\n",
       "      <td>Labyrinth League</td>\n",
       "      <td>PG-13</td>\n",
       "      <td>46</td>\n",
       "      <td>116</td>\n",
       "    </tr>\n",
       "    <tr>\n",
       "      <th>4</th>\n",
       "      <td>Ridgemont Submarine</td>\n",
       "      <td>PG-13</td>\n",
       "      <td>46</td>\n",
       "      <td>116</td>\n",
       "    </tr>\n",
       "    <tr>\n",
       "      <th>5</th>\n",
       "      <td>Kwai Homeward</td>\n",
       "      <td>PG-13</td>\n",
       "      <td>46</td>\n",
       "      <td>116</td>\n",
       "    </tr>\n",
       "  </tbody>\n",
       "</table>\n",
       "</div>"
      ],
      "text/plain": [
       "                 title rating  length  dense_rank\n",
       "0        Chicago North  PG-13     185           1\n",
       "1          Gangs Pride  PG-13     185           1\n",
       "2         Pond Seattle  PG-13     185           1\n",
       "3     Labyrinth League  PG-13      46         116\n",
       "4  Ridgemont Submarine  PG-13      46         116\n",
       "5        Kwai Homeward  PG-13      46         116"
      ]
     },
     "execution_count": 23,
     "metadata": {},
     "output_type": "execute_result"
    }
   ],
   "source": [
    "pd.read_sql_query('''\n",
    "WITH cte AS (SELECT title, rating, length, DENSE_RANK() OVER (ORDER BY length DESC) as dense_rank \n",
    "FROM film\n",
    "WHERE rating ='PG-13' )\n",
    "\n",
    "SELECT *\n",
    "FROM cte\n",
    "WHERE dense_rank = 1 OR dense_rank = (SELECT dense_rank FROM cte ORDER by dense_rank DESC LIMIT 1)\n",
    ";''', engine)"
   ]
  },
  {
   "cell_type": "markdown",
   "metadata": {},
   "source": [
    "### Part 2: Ranking of Employees salaries"
   ]
  },
  {
   "cell_type": "code",
   "execution_count": 24,
   "metadata": {},
   "outputs": [
    {
     "name": "stdout",
     "output_type": "stream",
     "text": [
      "['payment_id', 'customer_id', 'staff_id', 'rental_id', 'amount', 'payment_date']\n",
      "['staff_id', 'first_name', 'last_name', 'address_id', 'email', 'store_id', 'active', 'username', 'password', 'last_update', 'picture']\n"
     ]
    }
   ],
   "source": [
    "print(dic['payment'])\n",
    "print(dic['staff'])\n"
   ]
  },
  {
   "cell_type": "code",
   "execution_count": 25,
   "metadata": {},
   "outputs": [
    {
     "data": {
      "text/html": [
       "<div>\n",
       "<style scoped>\n",
       "    .dataframe tbody tr th:only-of-type {\n",
       "        vertical-align: middle;\n",
       "    }\n",
       "\n",
       "    .dataframe tbody tr th {\n",
       "        vertical-align: top;\n",
       "    }\n",
       "\n",
       "    .dataframe thead th {\n",
       "        text-align: right;\n",
       "    }\n",
       "</style>\n",
       "<table border=\"1\" class=\"dataframe\">\n",
       "  <thead>\n",
       "    <tr style=\"text-align: right;\">\n",
       "      <th></th>\n",
       "      <th>rank</th>\n",
       "      <th>total_sales</th>\n",
       "      <th>month</th>\n",
       "      <th>staff_id</th>\n",
       "      <th>first_name</th>\n",
       "      <th>last_name</th>\n",
       "    </tr>\n",
       "  </thead>\n",
       "  <tbody>\n",
       "    <tr>\n",
       "      <th>0</th>\n",
       "      <td>1</td>\n",
       "      <td>14479.10</td>\n",
       "      <td>2007-04-01</td>\n",
       "      <td>2</td>\n",
       "      <td>Jon</td>\n",
       "      <td>Stephens</td>\n",
       "    </tr>\n",
       "    <tr>\n",
       "      <th>1</th>\n",
       "      <td>2</td>\n",
       "      <td>14080.36</td>\n",
       "      <td>2007-04-01</td>\n",
       "      <td>1</td>\n",
       "      <td>Mike</td>\n",
       "      <td>Hillyer</td>\n",
       "    </tr>\n",
       "    <tr>\n",
       "      <th>2</th>\n",
       "      <td>3</td>\n",
       "      <td>12109.73</td>\n",
       "      <td>2007-03-01</td>\n",
       "      <td>2</td>\n",
       "      <td>Jon</td>\n",
       "      <td>Stephens</td>\n",
       "    </tr>\n",
       "    <tr>\n",
       "      <th>3</th>\n",
       "      <td>4</td>\n",
       "      <td>11776.83</td>\n",
       "      <td>2007-03-01</td>\n",
       "      <td>1</td>\n",
       "      <td>Mike</td>\n",
       "      <td>Hillyer</td>\n",
       "    </tr>\n",
       "    <tr>\n",
       "      <th>4</th>\n",
       "      <td>5</td>\n",
       "      <td>4191.00</td>\n",
       "      <td>2007-02-01</td>\n",
       "      <td>2</td>\n",
       "      <td>Jon</td>\n",
       "      <td>Stephens</td>\n",
       "    </tr>\n",
       "    <tr>\n",
       "      <th>5</th>\n",
       "      <td>6</td>\n",
       "      <td>4160.84</td>\n",
       "      <td>2007-02-01</td>\n",
       "      <td>1</td>\n",
       "      <td>Mike</td>\n",
       "      <td>Hillyer</td>\n",
       "    </tr>\n",
       "    <tr>\n",
       "      <th>6</th>\n",
       "      <td>7</td>\n",
       "      <td>280.09</td>\n",
       "      <td>2007-05-01</td>\n",
       "      <td>2</td>\n",
       "      <td>Jon</td>\n",
       "      <td>Stephens</td>\n",
       "    </tr>\n",
       "    <tr>\n",
       "      <th>7</th>\n",
       "      <td>8</td>\n",
       "      <td>234.09</td>\n",
       "      <td>2007-05-01</td>\n",
       "      <td>1</td>\n",
       "      <td>Mike</td>\n",
       "      <td>Hillyer</td>\n",
       "    </tr>\n",
       "  </tbody>\n",
       "</table>\n",
       "</div>"
      ],
      "text/plain": [
       "   rank  total_sales      month  staff_id first_name last_name\n",
       "0     1     14479.10 2007-04-01         2        Jon  Stephens\n",
       "1     2     14080.36 2007-04-01         1       Mike   Hillyer\n",
       "2     3     12109.73 2007-03-01         2        Jon  Stephens\n",
       "3     4     11776.83 2007-03-01         1       Mike   Hillyer\n",
       "4     5      4191.00 2007-02-01         2        Jon  Stephens\n",
       "5     6      4160.84 2007-02-01         1       Mike   Hillyer\n",
       "6     7       280.09 2007-05-01         2        Jon  Stephens\n",
       "7     8       234.09 2007-05-01         1       Mike   Hillyer"
      ]
     },
     "execution_count": 25,
     "metadata": {},
     "output_type": "execute_result"
    }
   ],
   "source": [
    "pd.read_sql_query('''\n",
    "SELECT RANK() OVER(ORDER BY total_sales DESC), total_sales, month, t.staff_id, first_name, last_name\n",
    "FROM (SELECT staff_id, SUM(amount) as total_sales, DATE_TRUNC('month',payment_date) as month\n",
    "    FROM payment\n",
    "    GROUP BY staff_id, month) as t\n",
    "JOIN staff ON t.staff_id = staff.staff_id\n",
    ";''', engine)"
   ]
  },
  {
   "cell_type": "markdown",
   "metadata": {},
   "source": [
    "<div class=\"span5 alert alert-info\">\n",
    "    <h3> Complex Query</h3>\n",
    "\n",
    "**Information:** Find how many movies a each client has rented before returning a previous movie. Return their customer_id, their full name as one column, and the number of movies they have not returned before renting a new one. Order the results by this final count.<br>\n",
    "</div>"
   ]
  },
  {
   "cell_type": "code",
   "execution_count": 26,
   "metadata": {},
   "outputs": [
    {
     "data": {
      "text/html": [
       "<div>\n",
       "<style scoped>\n",
       "    .dataframe tbody tr th:only-of-type {\n",
       "        vertical-align: middle;\n",
       "    }\n",
       "\n",
       "    .dataframe tbody tr th {\n",
       "        vertical-align: top;\n",
       "    }\n",
       "\n",
       "    .dataframe thead th {\n",
       "        text-align: right;\n",
       "    }\n",
       "</style>\n",
       "<table border=\"1\" class=\"dataframe\">\n",
       "  <thead>\n",
       "    <tr style=\"text-align: right;\">\n",
       "      <th></th>\n",
       "      <th>customer_id</th>\n",
       "      <th>full_name</th>\n",
       "      <th>count</th>\n",
       "    </tr>\n",
       "  </thead>\n",
       "  <tbody>\n",
       "    <tr>\n",
       "      <th>0</th>\n",
       "      <td>148</td>\n",
       "      <td>Eleanor Hunt</td>\n",
       "      <td>45</td>\n",
       "    </tr>\n",
       "    <tr>\n",
       "      <th>1</th>\n",
       "      <td>526</td>\n",
       "      <td>Karl Seal</td>\n",
       "      <td>45</td>\n",
       "    </tr>\n",
       "    <tr>\n",
       "      <th>2</th>\n",
       "      <td>144</td>\n",
       "      <td>Clara Shaw</td>\n",
       "      <td>42</td>\n",
       "    </tr>\n",
       "    <tr>\n",
       "      <th>3</th>\n",
       "      <td>236</td>\n",
       "      <td>Marcia Dean</td>\n",
       "      <td>41</td>\n",
       "    </tr>\n",
       "    <tr>\n",
       "      <th>4</th>\n",
       "      <td>197</td>\n",
       "      <td>Sue Peters</td>\n",
       "      <td>40</td>\n",
       "    </tr>\n",
       "    <tr>\n",
       "      <th>...</th>\n",
       "      <td>...</td>\n",
       "      <td>...</td>\n",
       "      <td>...</td>\n",
       "    </tr>\n",
       "    <tr>\n",
       "      <th>594</th>\n",
       "      <td>110</td>\n",
       "      <td>Tiffany Jordan</td>\n",
       "      <td>14</td>\n",
       "    </tr>\n",
       "    <tr>\n",
       "      <th>595</th>\n",
       "      <td>281</td>\n",
       "      <td>Leona Obrien</td>\n",
       "      <td>14</td>\n",
       "    </tr>\n",
       "    <tr>\n",
       "      <th>596</th>\n",
       "      <td>136</td>\n",
       "      <td>Anita Morales</td>\n",
       "      <td>14</td>\n",
       "    </tr>\n",
       "    <tr>\n",
       "      <th>597</th>\n",
       "      <td>61</td>\n",
       "      <td>Katherine Rivera</td>\n",
       "      <td>13</td>\n",
       "    </tr>\n",
       "    <tr>\n",
       "      <th>598</th>\n",
       "      <td>318</td>\n",
       "      <td>Brian Wyman</td>\n",
       "      <td>11</td>\n",
       "    </tr>\n",
       "  </tbody>\n",
       "</table>\n",
       "<p>599 rows × 3 columns</p>\n",
       "</div>"
      ],
      "text/plain": [
       "     customer_id         full_name  count\n",
       "0            148      Eleanor Hunt     45\n",
       "1            526         Karl Seal     45\n",
       "2            144        Clara Shaw     42\n",
       "3            236       Marcia Dean     41\n",
       "4            197        Sue Peters     40\n",
       "..           ...               ...    ...\n",
       "594          110    Tiffany Jordan     14\n",
       "595          281      Leona Obrien     14\n",
       "596          136     Anita Morales     14\n",
       "597           61  Katherine Rivera     13\n",
       "598          318       Brian Wyman     11\n",
       "\n",
       "[599 rows x 3 columns]"
      ]
     },
     "execution_count": 26,
     "metadata": {},
     "output_type": "execute_result"
    }
   ],
   "source": [
    "pd.read_sql_query('''\n",
    "WITH cte AS (SELECT  t1.customer_id, t1.rental_id as rental_id, t1.return_date,t2.rental_id as rental_id2, t2.rental_date\n",
    "FROM rental t1\n",
    "JOIN rental t2 ON t1.customer_id = t2.customer_id AND t1.rental_id != t2.rental_id\n",
    "WHERE t1.return_date > t2.rental_date),\n",
    "\n",
    "cte2 as (SELECT DISTINCT(rental_id), customer_id\n",
    "FROM cte)\n",
    "\n",
    "SELECT cte2.customer_id, CONCAT(first_name,' ', last_name) as full_name, COUNT(*)\n",
    "FROM cte2\n",
    "LEFT JOIN customer ON cte2.customer_id = customer.customer_id\n",
    "GROUP BY cte2.customer_id, full_name\n",
    "ORDER BY count DESC\n",
    "\n",
    ";''', engine)"
   ]
  },
  {
   "cell_type": "code",
   "execution_count": null,
   "metadata": {},
   "outputs": [],
   "source": []
  }
 ],
 "metadata": {
  "kernelspec": {
   "display_name": "Python 3",
   "language": "python",
   "name": "python3"
  },
  "language_info": {
   "codemirror_mode": {
    "name": "ipython",
    "version": 3
   },
   "file_extension": ".py",
   "mimetype": "text/x-python",
   "name": "python",
   "nbconvert_exporter": "python",
   "pygments_lexer": "ipython3",
   "version": "3.8.2"
  }
 },
 "nbformat": 4,
 "nbformat_minor": 4
}
