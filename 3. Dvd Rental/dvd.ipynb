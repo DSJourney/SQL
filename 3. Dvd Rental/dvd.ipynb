{
 "cells": [
  {
   "cell_type": "markdown",
   "metadata": {},
   "source": [
    "\n",
    "# SQL Exercises - DVD Rental Store\n",
    "\n",
    "<br>"
   ]
  },
  {
   "cell_type": "markdown",
   "metadata": {},
   "source": [
    "1. [Disclaimer](#disclaimer)\n",
    "1. [Relevant Information](#info)\n",
    "1. [Imports](#imports)\n",
    "1. [Connections](#connection)\n",
    "1. [Schema](#schema)\n",
    "1. [Exercises](#Exercises)\n",
    "    - [Easy Level](#easy)\n",
    "    - [Medium Level](#medium)\n",
    "    - [Hard Level](#hard)"
   ]
  },
  {
   "cell_type": "markdown",
   "metadata": {},
   "source": [
    "<a id=disclaimer></a>"
   ]
  },
  {
   "cell_type": "markdown",
   "metadata": {},
   "source": [
    "## Disclaimer\n",
    "***"
   ]
  },
  {
   "cell_type": "markdown",
   "metadata": {},
   "source": [
    "<div class=\"span5 alert alert-danger\">\n",
    "    <b>Note:</b> For these exercises I will be using a dataset that represents a DVD rental store. The dataset can be found in <a href=https://www.postgresqltutorial.com/postgresql-sample-database/>this page of postgresqltutorial.com</a>\n",
    "</div>"
   ]
  },
  {
   "cell_type": "markdown",
   "metadata": {},
   "source": [
    "[Completely Uninstall & Install PostgreSQL](https://medium.com/@bitadj/completely-uninstall-and-reinstall-psql-on-osx-551390904b86)\n",
    "\n",
    "**About the exercises** \n",
    "- I will be using PostgreSQL, this is a different SQL flavour from the options you have in HackerRank.\n",
    "- I will decide the questions I will try to answer. \n",
    "- I have used a lot of what was created by Zachary Thomas in his post [The Best Medium-Hard Data Analyst SQL Interview Questions](https://quip.com/2gwZArKuWk7W), there are great questions and great solutions to draw insights from.\n"
   ]
  },
  {
   "cell_type": "markdown",
   "metadata": {},
   "source": [
    "<a id=info></a>"
   ]
  },
  {
   "cell_type": "markdown",
   "metadata": {},
   "source": [
    "## Relevant Information\n",
    "***"
   ]
  },
  {
   "cell_type": "markdown",
   "metadata": {},
   "source": [
    "Here are some of the basic commands for macOS users\n",
    "\n",
    "- `brew install postgresql` --> will install postgresql\n",
    "- `brew services restart postgresql` --> will restart postgresql\n",
    "- `initdb /usr/local/var/postgres` --> will point to the data directory\n",
    "- `psql -U postgres` --> will ask for the password to enter your database\n",
    "- `\\du` --> will show the users\n",
    "- `\\l` --> will show the existing db\n",
    "- `CREATE DATABASE hackerrank;` --> will create the database with the name leetcode (see complete syntax below)\n",
    "- `\\c hackerrank` --> will enter the database\n",
    "- `\\q` --> will close the connection to Postgres\n",
    "- `CREATE TABLE tb_name;` --> Will create a table in your database\n",
    "- `DROP TABLE tb_name;` --> Will delete a table from your database"
   ]
  },
  {
   "cell_type": "markdown",
   "metadata": {},
   "source": [
    "**Complete syntax to create database**<br><br>\n",
    "`CREATE DATABASE db_name\n",
    "OWNER =  role_name\n",
    "TEMPLATE = template\n",
    "ENCODING = encoding\n",
    "LC_COLLATE = collate\n",
    "LC_CTYPE = ctype\n",
    "TABLESPACE = tablespace_name\n",
    "CONNECTION LIMIT = max_concurrent_connection`"
   ]
  },
  {
   "cell_type": "markdown",
   "metadata": {},
   "source": [
    "<a id=imports></a>"
   ]
  },
  {
   "cell_type": "markdown",
   "metadata": {},
   "source": [
    "## Imports\n",
    "***"
   ]
  },
  {
   "cell_type": "code",
   "execution_count": 1,
   "metadata": {},
   "outputs": [],
   "source": [
    "import pandas as pd\n",
    "import psycopg2\n",
    "import sqlalchemy"
   ]
  },
  {
   "cell_type": "code",
   "execution_count": 2,
   "metadata": {},
   "outputs": [],
   "source": [
    "from sqlalchemy import Table, Column, Integer, String, MetaData, VARCHAR, insert, update\n",
    "from sqlalchemy.orm import sessionmaker"
   ]
  },
  {
   "cell_type": "markdown",
   "metadata": {},
   "source": [
    "<a id=connection></a>"
   ]
  },
  {
   "cell_type": "markdown",
   "metadata": {},
   "source": [
    "## Connection\n",
    "***"
   ]
  },
  {
   "cell_type": "code",
   "execution_count": 28,
   "metadata": {},
   "outputs": [],
   "source": [
    "from sqlalchemy import create_engine\n",
    "\n",
    "# Postgres username, password, and database name\n",
    "POSTGRES_ADDRESS = 'localhost' \n",
    "POSTGRES_PORT = '5432'\n",
    "POSTGRES_USERNAME = 'postgres' \n",
    "POSTGRES_PASSWORD = 'LCmd2020!'\n",
    "POSTGRES_DBNAME = 'dvdrental' \n",
    "\n",
    "# A long string that contains the necessary Postgres login information\n",
    "postgres_str = ('postgresql://{username}:{password}@{ipaddress}:{port}/{dbname}'.format(username=POSTGRES_USERNAME,\n",
    "                                                                                        password=POSTGRES_PASSWORD,\n",
    "                                                                                        ipaddress=POSTGRES_ADDRESS,\n",
    "                                                                                        port=POSTGRES_PORT,\n",
    "                                                                                        dbname=POSTGRES_DBNAME))\n",
    "# Create the connection\n",
    "engine = create_engine(postgres_str) \n",
    "Session = sessionmaker(bind=engine)\n",
    "session = Session()"
   ]
  },
  {
   "cell_type": "markdown",
   "metadata": {},
   "source": [
    "<a id=schema></a>"
   ]
  },
  {
   "cell_type": "markdown",
   "metadata": {},
   "source": [
    "## Schema"
   ]
  },
  {
   "cell_type": "markdown",
   "metadata": {},
   "source": [
    "<br>\n",
    "<img src=\"img/schema.png\" style=\"width: 500px;\"/>"
   ]
  },
  {
   "cell_type": "markdown",
   "metadata": {},
   "source": [
    "**Note** I create a dictionary with the table and fields to have them readily available when needed"
   ]
  },
  {
   "cell_type": "code",
   "execution_count": 4,
   "metadata": {},
   "outputs": [],
   "source": [
    "tables = ['category','inventory', 'customer', 'film_category', 'rental', 'address', \n",
    "          'film', 'payment', 'staff', 'city', 'country', 'store', 'actor', 'film_actor', 'language']"
   ]
  },
  {
   "cell_type": "code",
   "execution_count": 49,
   "metadata": {},
   "outputs": [],
   "source": [
    "dic = dict()\n",
    "for table in tables:\n",
    "    df = pd.read_sql_query('SELECT * FROM {}'.format(table), engine)\n",
    "    fields = df.columns\n",
    "    dic[table] = fields.to_list()\n"
   ]
  },
  {
   "cell_type": "code",
   "execution_count": 53,
   "metadata": {},
   "outputs": [
    {
     "name": "stdout",
     "output_type": "stream",
     "text": [
      "category ['category_id', 'name', 'last_update']\n",
      "inventory ['inventory_id', 'film_id', 'store_id', 'last_update']\n",
      "customer ['customer_id', 'store_id', 'first_name', 'last_name', 'email', 'address_id', 'activebool', 'create_date', 'last_update', 'active']\n",
      "film_category ['film_id', 'category_id', 'last_update']\n",
      "rental ['rental_id', 'rental_date', 'inventory_id', 'customer_id', 'return_date', 'staff_id', 'last_update']\n",
      "address ['address_id', 'address', 'address2', 'district', 'city_id', 'postal_code', 'phone', 'last_update']\n",
      "film ['film_id', 'title', 'description', 'release_year', 'language_id', 'rental_duration', 'rental_rate', 'length', 'replacement_cost', 'rating', 'last_update', 'special_features', 'fulltext']\n",
      "payment ['payment_id', 'customer_id', 'staff_id', 'rental_id', 'amount', 'payment_date']\n",
      "staff ['staff_id', 'first_name', 'last_name', 'address_id', 'email', 'store_id', 'active', 'username', 'password', 'last_update', 'picture']\n",
      "city ['city_id', 'city', 'country_id', 'last_update']\n",
      "country ['country_id', 'country', 'last_update']\n",
      "store ['store_id', 'manager_staff_id', 'address_id', 'last_update']\n",
      "actor ['actor_id', 'first_name', 'last_name', 'last_update']\n",
      "film_actor ['actor_id', 'film_id', 'last_update']\n",
      "language ['language_id', 'name', 'last_update']\n"
     ]
    }
   ],
   "source": [
    "for key, value in dic.items():\n",
    "    print(key,value)"
   ]
  },
  {
   "cell_type": "markdown",
   "metadata": {},
   "source": [
    "<a id=Exercises></a>"
   ]
  },
  {
   "cell_type": "markdown",
   "metadata": {},
   "source": [
    "## Exercises"
   ]
  },
  {
   "cell_type": "markdown",
   "metadata": {},
   "source": [
    "<a id=easy></a>"
   ]
  },
  {
   "cell_type": "markdown",
   "metadata": {},
   "source": [
    "<div class=\"span5 alert alert-info\">\n",
    "    <h3> Median of inventory</h3>\n",
    "\n",
    "**Information:** Get the median of films this dvd rental company has on stocks. Use the `inventory` table.\n",
    "</div>"
   ]
  },
  {
   "cell_type": "code",
   "execution_count": 61,
   "metadata": {},
   "outputs": [
    {
     "data": {
      "text/html": [
       "<div>\n",
       "<style scoped>\n",
       "    .dataframe tbody tr th:only-of-type {\n",
       "        vertical-align: middle;\n",
       "    }\n",
       "\n",
       "    .dataframe tbody tr th {\n",
       "        vertical-align: top;\n",
       "    }\n",
       "\n",
       "    .dataframe thead th {\n",
       "        text-align: right;\n",
       "    }\n",
       "</style>\n",
       "<table border=\"1\" class=\"dataframe\">\n",
       "  <thead>\n",
       "    <tr style=\"text-align: right;\">\n",
       "      <th></th>\n",
       "      <th>median</th>\n",
       "    </tr>\n",
       "  </thead>\n",
       "  <tbody>\n",
       "    <tr>\n",
       "      <th>0</th>\n",
       "      <td>5.0</td>\n",
       "    </tr>\n",
       "  </tbody>\n",
       "</table>\n",
       "</div>"
      ],
      "text/plain": [
       "   median\n",
       "0     5.0"
      ]
     },
     "execution_count": 61,
     "metadata": {},
     "output_type": "execute_result"
    }
   ],
   "source": [
    "pd.read_sql_query('''\n",
    "WITH cte as (SELECT film_id, COUNT(film_id) as counter \n",
    "            FROM inventory \n",
    "            GROUP BY film_id \n",
    "            ORDER BY counter )\n",
    "\n",
    "SELECT PERCENTILE_CONT(0.5) WITHIN GROUP(ORDER BY counter) as median \n",
    "FROM cte\n",
    "\n",
    ";''', engine)\n"
   ]
  },
  {
   "cell_type": "markdown",
   "metadata": {},
   "source": [
    "<div class=\"span5 alert alert-info\">\n",
    "    <h3> Monthly Active Users (MAU), Retained Users per Month, Churned Users, </h3>\n",
    "\n",
    "**Information:** Questions from [Zachary Thomas](https://quip.com/2gwZArKuWk7W) <br>\n",
    "    - Task1: Get the total number of users (people who rented a movie each month)<br>\n",
    "    - Task2: Write a query that gets the number of retained users per month. In this case, retention for a given month is defined as the number of users who rented in that month who also rented in the immediately previous month. <br>\n",
    "    - Task3: Now we’ll take retention and turn it on its head: Write a query to find many users last month did not come back this month. i.e. the number of churned users.  <br>\n",
    "</div>"
   ]
  },
  {
   "cell_type": "code",
   "execution_count": 64,
   "metadata": {},
   "outputs": [
    {
     "data": {
      "text/plain": [
       "['rental_id',\n",
       " 'rental_date',\n",
       " 'inventory_id',\n",
       " 'customer_id',\n",
       " 'return_date',\n",
       " 'staff_id',\n",
       " 'last_update']"
      ]
     },
     "execution_count": 64,
     "metadata": {},
     "output_type": "execute_result"
    }
   ],
   "source": [
    "dic['rental']"
   ]
  },
  {
   "cell_type": "code",
   "execution_count": 67,
   "metadata": {},
   "outputs": [
    {
     "data": {
      "text/html": [
       "<div>\n",
       "<style scoped>\n",
       "    .dataframe tbody tr th:only-of-type {\n",
       "        vertical-align: middle;\n",
       "    }\n",
       "\n",
       "    .dataframe tbody tr th {\n",
       "        vertical-align: top;\n",
       "    }\n",
       "\n",
       "    .dataframe thead th {\n",
       "        text-align: right;\n",
       "    }\n",
       "</style>\n",
       "<table border=\"1\" class=\"dataframe\">\n",
       "  <thead>\n",
       "    <tr style=\"text-align: right;\">\n",
       "      <th></th>\n",
       "      <th>trunc</th>\n",
       "      <th>count</th>\n",
       "    </tr>\n",
       "  </thead>\n",
       "  <tbody>\n",
       "    <tr>\n",
       "      <th>0</th>\n",
       "      <td>2005-05-01</td>\n",
       "      <td>520</td>\n",
       "    </tr>\n",
       "    <tr>\n",
       "      <th>1</th>\n",
       "      <td>2005-06-01</td>\n",
       "      <td>590</td>\n",
       "    </tr>\n",
       "    <tr>\n",
       "      <th>2</th>\n",
       "      <td>2005-07-01</td>\n",
       "      <td>599</td>\n",
       "    </tr>\n",
       "    <tr>\n",
       "      <th>3</th>\n",
       "      <td>2005-08-01</td>\n",
       "      <td>599</td>\n",
       "    </tr>\n",
       "    <tr>\n",
       "      <th>4</th>\n",
       "      <td>2006-02-01</td>\n",
       "      <td>158</td>\n",
       "    </tr>\n",
       "  </tbody>\n",
       "</table>\n",
       "</div>"
      ],
      "text/plain": [
       "       trunc  count\n",
       "0 2005-05-01    520\n",
       "1 2005-06-01    590\n",
       "2 2005-07-01    599\n",
       "3 2005-08-01    599\n",
       "4 2006-02-01    158"
      ]
     },
     "execution_count": 67,
     "metadata": {},
     "output_type": "execute_result"
    }
   ],
   "source": [
    "pd.read_sql_query('''\n",
    "SELECT DATE_TRUNC('month', rental_date) as trunc, COUNT(DISTINCT(customer_id))\n",
    "FROM rental\n",
    "GROUP BY trunc\n",
    "ORDER BY trunc\n",
    ";''', engine)"
   ]
  },
  {
   "cell_type": "code",
   "execution_count": 77,
   "metadata": {},
   "outputs": [
    {
     "data": {
      "text/html": [
       "<div>\n",
       "<style scoped>\n",
       "    .dataframe tbody tr th:only-of-type {\n",
       "        vertical-align: middle;\n",
       "    }\n",
       "\n",
       "    .dataframe tbody tr th {\n",
       "        vertical-align: top;\n",
       "    }\n",
       "\n",
       "    .dataframe thead th {\n",
       "        text-align: right;\n",
       "    }\n",
       "</style>\n",
       "<table border=\"1\" class=\"dataframe\">\n",
       "  <thead>\n",
       "    <tr style=\"text-align: right;\">\n",
       "      <th></th>\n",
       "      <th>month</th>\n",
       "      <th>count</th>\n",
       "    </tr>\n",
       "  </thead>\n",
       "  <tbody>\n",
       "    <tr>\n",
       "      <th>0</th>\n",
       "      <td>6.0</td>\n",
       "      <td>512</td>\n",
       "    </tr>\n",
       "    <tr>\n",
       "      <th>1</th>\n",
       "      <td>7.0</td>\n",
       "      <td>590</td>\n",
       "    </tr>\n",
       "    <tr>\n",
       "      <th>2</th>\n",
       "      <td>8.0</td>\n",
       "      <td>599</td>\n",
       "    </tr>\n",
       "  </tbody>\n",
       "</table>\n",
       "</div>"
      ],
      "text/plain": [
       "   month  count\n",
       "0    6.0    512\n",
       "1    7.0    590\n",
       "2    8.0    599"
      ]
     },
     "execution_count": 77,
     "metadata": {},
     "output_type": "execute_result"
    }
   ],
   "source": [
    "pd.read_sql_query('''\n",
    "SELECT DATE_PART('month', DATE_TRUNC('month', t1.rental_date)) as Month, COUNT(DISTINCT(t1.customer_id))\n",
    "FROM rental as t1\n",
    "JOIN rental as t2 ON t1.customer_id = t2.customer_id AND DATE_TRUNC('month', t1.rental_date) = DATE_TRUNC('month', t2.rental_date) + interval '1 month'\n",
    "GROUP BY DATE_TRUNC('month', t1.rental_date)\n",
    ";''', engine)"
   ]
  },
  {
   "cell_type": "code",
   "execution_count": 93,
   "metadata": {},
   "outputs": [
    {
     "data": {
      "text/html": [
       "<div>\n",
       "<style scoped>\n",
       "    .dataframe tbody tr th:only-of-type {\n",
       "        vertical-align: middle;\n",
       "    }\n",
       "\n",
       "    .dataframe tbody tr th {\n",
       "        vertical-align: top;\n",
       "    }\n",
       "\n",
       "    .dataframe thead th {\n",
       "        text-align: right;\n",
       "    }\n",
       "</style>\n",
       "<table border=\"1\" class=\"dataframe\">\n",
       "  <thead>\n",
       "    <tr style=\"text-align: right;\">\n",
       "      <th></th>\n",
       "      <th>date_trunc</th>\n",
       "      <th>count</th>\n",
       "    </tr>\n",
       "  </thead>\n",
       "  <tbody>\n",
       "    <tr>\n",
       "      <th>0</th>\n",
       "      <td>2005-05-01</td>\n",
       "      <td>520</td>\n",
       "    </tr>\n",
       "    <tr>\n",
       "      <th>1</th>\n",
       "      <td>2005-06-01</td>\n",
       "      <td>78</td>\n",
       "    </tr>\n",
       "    <tr>\n",
       "      <th>2</th>\n",
       "      <td>2005-07-01</td>\n",
       "      <td>9</td>\n",
       "    </tr>\n",
       "    <tr>\n",
       "      <th>3</th>\n",
       "      <td>2006-02-01</td>\n",
       "      <td>158</td>\n",
       "    </tr>\n",
       "  </tbody>\n",
       "</table>\n",
       "</div>"
      ],
      "text/plain": [
       "  date_trunc  count\n",
       "0 2005-05-01    520\n",
       "1 2005-06-01     78\n",
       "2 2005-07-01      9\n",
       "3 2006-02-01    158"
      ]
     },
     "execution_count": 93,
     "metadata": {},
     "output_type": "execute_result"
    }
   ],
   "source": [
    "pd.read_sql_query('''\n",
    "SELECT DATE_TRUNC('month', t1.rental_date), COUNT(DISTINCT(t1.customer_id))\n",
    "FROM rental as t1\n",
    "LEFT JOIN rental as t2 ON t1.customer_id = t2.customer_id AND DATE_TRUNC('month', t1.rental_date) = DATE_TRUNC('month', t2.rental_date) + interval '1 month'\n",
    "WHERE t2.customer_id IS NULL\n",
    "GROUP BY DATE_TRUNC('month', t1.rental_date)\n",
    ";''', engine)"
   ]
  },
  {
   "cell_type": "code",
   "execution_count": null,
   "metadata": {},
   "outputs": [],
   "source": []
  }
 ],
 "metadata": {
  "kernelspec": {
   "display_name": "Python 3",
   "language": "python",
   "name": "python3"
  },
  "language_info": {
   "codemirror_mode": {
    "name": "ipython",
    "version": 3
   },
   "file_extension": ".py",
   "mimetype": "text/x-python",
   "name": "python",
   "nbconvert_exporter": "python",
   "pygments_lexer": "ipython3",
   "version": "3.8.2"
  }
 },
 "nbformat": 4,
 "nbformat_minor": 4
}
