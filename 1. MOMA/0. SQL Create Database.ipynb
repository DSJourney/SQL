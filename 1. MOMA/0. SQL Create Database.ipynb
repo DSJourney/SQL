{
 "cells": [
  {
   "cell_type": "markdown",
   "metadata": {},
   "source": [
    "<img src=\"img/MoMA.jpg\" style=\"width: 600px;\"/>"
   ]
  },
  {
   "cell_type": "markdown",
   "metadata": {},
   "source": [
    "# SQL Exercise - Museum of Modern Art"
   ]
  },
  {
   "cell_type": "markdown",
   "metadata": {},
   "source": [
    "**As a way of practising my SQL skills I download the dataset provided by the [MoMA](https://github.com/MuseumofModernArt/collection). The dataset has 2 tables Artists & Artworks**\n",
    "\n",
    "According to the github repository with the data: \n",
    "<br>\n",
    "\n",
    "> _\"This research dataset contains 138,210 records, representing all of the works that have been accessioned into MoMA’s collection and cataloged in our database. It includes basic metadata for each work, including title, artist, date made, medium, dimensions, and date acquired by the Museum. Some of these records have incomplete information and are noted as “not Curator Approved.”_\n",
    "\n",
    "> *The Artists dataset contains 15,388 records, representing all the artists who have work in MoMA's collection and have been cataloged in our database. It includes basic metadata for each artist, including name, nationality, gender, birth year, death year, Wiki QID, and Getty ULAN ID.\"*"
   ]
  },
  {
   "cell_type": "markdown",
   "metadata": {},
   "source": [
    "**I will be using PostgreSQL to practice**\n",
    "\n",
    "Here are some of the basic commands for macOS users\n",
    "\n",
    "<ol>\n",
    "    <li>brew install postgresql --> will install postgresql</li>\n",
    "    <li>initdb /usr/local/var/postgres --> will point to the data directory</li>\n",
    "    <li>pg_ctl -D /usr/local/var/postgres start --> will run postgres</li>\n",
    "    <li>pg_ctl -D /usr/local/var/postgres stop --> will stop running postgres</li>\n",
    "    <li>createdb database_name --> will create a new database with the name you specify</li>\n",
    "    <li>dropdb database_name  --> will delete a database</li>\n",
    "    <li>psql database_name --> will enter the database</li>\n",
    "    <li>postgres=#\\du --> will show the users</li>\n",
    "</ol>"
   ]
  },
  {
   "cell_type": "markdown",
   "metadata": {},
   "source": [
    "<br>\n",
    "\n",
    "## CREATING TABLES AND COPYING DATA"
   ]
  },
  {
   "cell_type": "markdown",
   "metadata": {},
   "source": [
    "I will create the database directly from the command line even if it is possible to do it from a notebook. The following lines of code are the ones I used to create the tables and to copy the data."
   ]
  },
  {
   "cell_type": "markdown",
   "metadata": {},
   "source": [
    "<br>\n",
    "\n",
    "### Artists Table"
   ]
  },
  {
   "cell_type": "code",
   "execution_count": null,
   "metadata": {},
   "outputs": [],
   "source": [
    "DROP TABLE IF EXISTS artists; \n",
    "CREATE TABLE artists(\n",
    "    ConstituentID serial PRIMARY KEY,\n",
    "    DisplayName VARCHAR (100),\n",
    "    ArtistBio VARCHAR (250),\n",
    "    Nationality VARCHAR (50),\n",
    "    Gender VARCHAR(10),\n",
    "    BeginDate INTEGER,\n",
    "    EndDate INTEGER,\n",
    "    Wiki_QID VARCHAR(50),\n",
    "    ULAN INTEGER);"
   ]
  },
  {
   "cell_type": "code",
   "execution_count": null,
   "metadata": {},
   "outputs": [],
   "source": [
    "COPY artists\n",
    "FROM '/Users/diego/Documents/Artists.csv' # Write the path where your data is located\n",
    "DELIMITER ',' CSV HEADER;"
   ]
  },
  {
   "cell_type": "markdown",
   "metadata": {},
   "source": [
    "<br>\n",
    "<br>\n",
    "\n",
    "### Artworks Table"
   ]
  },
  {
   "cell_type": "code",
   "execution_count": null,
   "metadata": {},
   "outputs": [],
   "source": [
    "DROP TABLE IF EXISTS artworks;\n",
    "CREATE TABLE artworks (\n",
    "    Title VARCHAR (5000),\n",
    "    Artist VARCHAR (5000),\n",
    "    ConstituentID VARCHAR(5000),\n",
    "    ArtistBio VARCHAR (5000),\n",
    "    Nationality VARCHAR (5000),\n",
    "    BeginDate VARCHAR(5000),\n",
    "    EndDate VARCHAR(5000),\n",
    "    Gender VARCHAR(5000),\n",
    "    Date VARCHAR(5000),\n",
    "    Medium VARCHAR (5000),\n",
    "    Dimensions VARCHAR (5000),\n",
    "    CreditLine VARCHAR (5000),\n",
    "    AccessionNumber VARCHAR (5000),\n",
    "    Classification VARCHAR (5000),\n",
    "    Department VARCHAR (5000),\n",
    "    DateAcquired DATE,\n",
    "    Cataloged VARCHAR(1),\n",
    "    ObjectID serial PRIMARY KEY,\n",
    "    URL VARCHAR(5000),\n",
    "    ThumbnailURL VARCHAR(5000),\n",
    "    Circumference_cm DECIMAL,\n",
    "    Depth_cm DECIMAL,\n",
    "    Diameter_cm DECIMAL,\n",
    "    Height_cm DECIMAL,\n",
    "    Length_cm DECIMAL,\n",
    "    Weight_kg DECIMAL,\n",
    "    Width_cm DECIMAL,\n",
    "    Seat_Height_cm DECIMAL,\n",
    "    Duration_sec DECIMAL);"
   ]
  },
  {
   "cell_type": "code",
   "execution_count": null,
   "metadata": {},
   "outputs": [],
   "source": [
    "COPY artworks\n",
    "FROM '/Users/diego/Documents/Artworks.csv' # Write the path where your data is located\n",
    "DELIMITER ',' CSV HEADER;"
   ]
  },
  {
   "cell_type": "code",
   "execution_count": null,
   "metadata": {},
   "outputs": [],
   "source": [
    "''' The code above to create the artworks table works well but I had to keep increasing the VARCHAR values due to some \n",
    "entries being very long. This is the code to change a predefined table datatype:'''\n",
    "\n",
    "ALTER TABLE Artworks\n",
    "ALTER COLUMN enddate TYPE VARCHAR(200);"
   ]
  },
  {
   "cell_type": "markdown",
   "metadata": {},
   "source": [
    "Unfortunately, this second table is not as straight-forward as the 1st one. It is quite of a messy dataset. Here ar some points:\n",
    "<ol>\n",
    "    <li>The Seat Height column is empty, it could be droped, df.drop('Seat Height (cm)', axis=1, inplace=True)</li><br>\n",
    "    <li>Most of the artworks measures (length, weight, etc.) are empty (I will keep them)</li><br>\n",
    "    <li>ConstituentId sometimes references two or more ids. This is because some artworks are done by more than one artist. This makes it rather difficult to analyze since dates, names, ids, artistsbio, etc. are all grouped together in one entry. The question of having them separated is there but we would be duplicating rows (since the artworks would be assigned to each artist and thus lose their unique id). There is a great StackOverflow thread where user MaxU shares a function to separate these types of entries (see below)</li><br>\n",
    "    <li>What I have done is create an edited Artworks dataset that can be found in the data folder, I will use that one for some of the exercises I created for myself.</li>\n",
    "</ol>\n",
    "        \n",
    "        \n",
    "[StackOverflow link](https://stackoverflow.com/questions/12680754/split-explode-pandas-dataframe-string-entry-to-separate-rows)"
   ]
  },
  {
   "cell_type": "markdown",
   "metadata": {},
   "source": [
    "The following commands will allow you to upload the edited \"Artorks\" table I mentioned above:"
   ]
  },
  {
   "cell_type": "code",
   "execution_count": null,
   "metadata": {},
   "outputs": [],
   "source": [
    "DROP TABLE IF EXISTS artworks_edit;\n",
    "CREATE TABLE artworks_edit (\n",
    "    ObjectID INTEGER,\n",
    "    ArtistID INTEGER,\n",
    "    Title VARCHAR (5000),\n",
    "    All_Artists VARCHAR (5000),\n",
    "    All_IDs VARCHAR(5000),\n",
    "    All_Bios VARCHAR (5000),\n",
    "    All_Nationalities VARCHAR (5000),\n",
    "    All_BeginDates VARCHAR(5000),\n",
    "    All_EndDates VARCHAR(5000),\n",
    "    All_Genders VARCHAR(5000),\n",
    "    Date VARCHAR(5000),\n",
    "    Medium VARCHAR (5000),\n",
    "    Dimensions VARCHAR (5000),\n",
    "    CreditLine VARCHAR (5000),\n",
    "    AccessionNumber VARCHAR (5000),\n",
    "    Classification VARCHAR (5000),\n",
    "    Department VARCHAR (5000),\n",
    "    DateAcquired DATE,\n",
    "    Cataloged VARCHAR(1),\n",
    "    URL VARCHAR(5000),\n",
    "    ThumbnailURL VARCHAR(5000),\n",
    "    Circumference_cm DECIMAL,\n",
    "    Depth_cm DECIMAL,\n",
    "    Diameter_cm DECIMAL,\n",
    "    Height_cm DECIMAL,\n",
    "    Length_cm DECIMAL,\n",
    "    Weight_kg DECIMAL,\n",
    "    Width_cm DECIMAL,\n",
    "    Duration_sec DECIMAL);"
   ]
  },
  {
   "cell_type": "code",
   "execution_count": null,
   "metadata": {},
   "outputs": [],
   "source": [
    "COPY artworks_edit\n",
    "FROM '/Users/diego/Documents/Artworks_Edits.csv'\n",
    "DELIMITER ',' CSV HEADER;"
   ]
  }
 ],
 "metadata": {
  "kernelspec": {
   "display_name": "Python 3",
   "language": "python",
   "name": "python3"
  },
  "language_info": {
   "codemirror_mode": {
    "name": "ipython",
    "version": 3
   },
   "file_extension": ".py",
   "mimetype": "text/x-python",
   "name": "python",
   "nbconvert_exporter": "python",
   "pygments_lexer": "ipython3",
   "version": "3.7.7"
  }
 },
 "nbformat": 4,
 "nbformat_minor": 4
}
